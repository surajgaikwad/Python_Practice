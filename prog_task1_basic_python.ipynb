{
 "cells": [
  {
   "cell_type": "markdown",
   "id": "77f9f347",
   "metadata": {},
   "source": [
    "### Suraj Bhalchandra Gaikwad \n",
    "### Programming Task- 1 (Basic Python Programming)"
   ]
  },
  {
   "cell_type": "code",
   "execution_count": 5,
   "id": "9494cd07",
   "metadata": {},
   "outputs": [
    {
     "name": "stdout",
     "output_type": "stream",
     "text": [
      "Hello, World!\n"
     ]
    }
   ],
   "source": [
    "# say Hello world with python\n",
    "print(\"Hello, World!\")"
   ]
  },
  {
   "cell_type": "code",
   "execution_count": 9,
   "id": "030ded66",
   "metadata": {},
   "outputs": [
    {
     "name": "stdout",
     "output_type": "stream",
     "text": [
      "4\n",
      "Not Weird\n"
     ]
    }
   ],
   "source": [
    "# Python If-Else\n",
    "\n",
    "import math\n",
    "import os\n",
    "import random\n",
    "import re\n",
    "import sys\n",
    "\n",
    "\n",
    "\n",
    "if __name__ == '__main__':\n",
    "    n = int(input().strip())\n",
    "    if n%2==1:\n",
    "        print(\"Weird\")\n",
    "    if n%2==0 and 2<=n<=5:\n",
    "        print(\"Not Weird\")\n",
    "    if n%2==0 and 6<=n<=20:\n",
    "        print(\"Weird\")\n",
    "    if n%2==0 and n>20:\n",
    "        print(\"Not Weird\") "
   ]
  },
  {
   "cell_type": "code",
   "execution_count": 15,
   "id": "0a92cb4f",
   "metadata": {},
   "outputs": [
    {
     "name": "stdout",
     "output_type": "stream",
     "text": [
      "enter a:5\n",
      "enter b:5\n",
      "a+b= 10\n",
      "a-b= 0\n",
      "a*b= 25\n"
     ]
    }
   ],
   "source": [
    "# Arithmetic Operators\n",
    "if __name__ == '__main__':\n",
    "    a = int(input(\"enter a:\"))\n",
    "    b = int(input(\"enter b:\"))\n",
    "    print(\"a+b=\", a+b)\n",
    "    print(\"a-b=\", a-b)\n",
    "    print(\"a*b=\",a*b)\n"
   ]
  },
  {
   "cell_type": "code",
   "execution_count": 16,
   "id": "dabe3687",
   "metadata": {},
   "outputs": [
    {
     "name": "stdout",
     "output_type": "stream",
     "text": [
      "5\n",
      "5\n",
      "1\n",
      "1.0\n"
     ]
    }
   ],
   "source": [
    "# Python: Division\n",
    "\n",
    "if __name__ == '__main__':\n",
    "    a = int(input())\n",
    "    b = int(input())\n",
    "    print(a//b)\n",
    "    print(a/b)"
   ]
  },
  {
   "cell_type": "code",
   "execution_count": 17,
   "id": "415ab269",
   "metadata": {},
   "outputs": [
    {
     "name": "stdout",
     "output_type": "stream",
     "text": [
      "5\n",
      "0\n",
      "1\n",
      "4\n",
      "9\n",
      "16\n"
     ]
    }
   ],
   "source": [
    "# Loops \n",
    "\n",
    "if __name__ == '__main__':\n",
    "    n = int(input())\n",
    "    for i in range(n):\n",
    "        print(i**2)"
   ]
  },
  {
   "cell_type": "code",
   "execution_count": 18,
   "id": "d1159fee",
   "metadata": {},
   "outputs": [
    {
     "name": "stdout",
     "output_type": "stream",
     "text": [
      "5\n",
      "12345\n"
     ]
    }
   ],
   "source": [
    "# Print Function\n",
    "\n",
    "if __name__ == '__main__':\n",
    "    n = int(input())\n",
    "    i=1\n",
    "    op=\"\"\n",
    "    while i<=n:\n",
    "        op=op+str(i)\n",
    "        i+=1\n",
    "    print(op) "
   ]
  },
  {
   "cell_type": "code",
   "execution_count": 19,
   "id": "57c1ac07",
   "metadata": {},
   "outputs": [
    {
     "name": "stdout",
     "output_type": "stream",
     "text": [
      "enter a year:2000\n",
      "True\n"
     ]
    }
   ],
   "source": [
    "# Write a Function\n",
    "def is_leap(year):\n",
    "    leap = False\n",
    "    \n",
    "    if (year % 400 == 0) and (year % 100 == 0):\n",
    "        leap = True\n",
    "    \n",
    "    elif (year % 4 ==0) and (year % 100 != 0):\n",
    "        leap = True\n",
    "            \n",
    "    return leap\n",
    "\n",
    "year = int(input(\"enter a year:\"))\n",
    "print(is_leap(year))"
   ]
  },
  {
   "cell_type": "code",
   "execution_count": null,
   "id": "4899dd94",
   "metadata": {},
   "outputs": [],
   "source": []
  }
 ],
 "metadata": {
  "kernelspec": {
   "display_name": "Python 3 (ipykernel)",
   "language": "python",
   "name": "python3"
  },
  "language_info": {
   "codemirror_mode": {
    "name": "ipython",
    "version": 3
   },
   "file_extension": ".py",
   "mimetype": "text/x-python",
   "name": "python",
   "nbconvert_exporter": "python",
   "pygments_lexer": "ipython3",
   "version": "3.10.0"
  }
 },
 "nbformat": 4,
 "nbformat_minor": 5
}
